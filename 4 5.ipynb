{
 "cells": [
  {
   "cell_type": "markdown",
   "metadata": {},
   "source": [
    "# =========================4th Lecture======================="
   ]
  },
  {
   "cell_type": "markdown",
   "metadata": {},
   "source": [
    "# what is Story telling"
   ]
  },
  {
   "cell_type": "code",
   "execution_count": null,
   "metadata": {},
   "outputs": [],
   "source": [
    "Story telling are the most effective way delivering messages \n",
    "because stories can derectly engaging with customer emotions than statistics.\n",
    "people can see and hear statictic but people can feel the stories."
   ]
  },
  {
   "cell_type": "code",
   "execution_count": null,
   "metadata": {},
   "outputs": [],
   "source": [
    "Types of story telling :\n",
    "\n",
    "Sales Pitch \n",
    "Infographics\n",
    "Product Presentation\n",
    "Research Reports\n",
    "News Articles\n",
    "Whitepapers"
   ]
  },
  {
   "cell_type": "markdown",
   "metadata": {},
   "source": [
    "# Story telling sucess path"
   ]
  },
  {
   "cell_type": "code",
   "execution_count": null,
   "metadata": {},
   "outputs": [],
   "source": [
    "Understand the Context\n",
    "building Narrative\n",
    "Effective Visualizations"
   ]
  },
  {
   "cell_type": "markdown",
   "metadata": {},
   "source": [
    "# 1 Data Storytelling Understanding Context"
   ]
  },
  {
   "cell_type": "code",
   "execution_count": null,
   "metadata": {},
   "outputs": [],
   "source": [
    "Who  : understand who we are tragating , which means understand who is our audiance. \n",
    "What : understand what to tell for the audiance and understand what our audiance is expecting from us and the data.\n",
    "why  : Understand why those messages importent , based on the importence build the story line."
   ]
  },
  {
   "cell_type": "code",
   "execution_count": null,
   "metadata": {},
   "outputs": [],
   "source": [
    "Build context based on personalization, connecting historical, \n",
    "events and occurrences that are relatable to the audience."
   ]
  },
  {
   "cell_type": "markdown",
   "metadata": {},
   "source": [
    "# 2 Building Narrative"
   ]
  },
  {
   "cell_type": "markdown",
   "metadata": {},
   "source": [
    "THEME/TITLE is Important"
   ]
  },
  {
   "cell_type": "code",
   "execution_count": null,
   "metadata": {},
   "outputs": [],
   "source": [
    "This is improtent becouse in the intaial stage befor going into deep \n",
    "peoples see theme and title. so that 1st impression is importent.\n",
    "then we can engage more people (audience) by appealing a theme."
   ]
  },
  {
   "cell_type": "code",
   "execution_count": null,
   "metadata": {},
   "outputs": [],
   "source": [
    "this is very importent becouse this is the one which communicate 1st to the audiance.\n",
    "so the 1st impression is more importent to build the trust.\n",
    "So it will helps to engage more people effectivly by appealing theame.\n",
    "and it will helps to get attraction as well."
   ]
  },
  {
   "cell_type": "code",
   "execution_count": null,
   "metadata": {},
   "outputs": [],
   "source": [
    "Strat from the small and build up"
   ]
  },
  {
   "cell_type": "code",
   "execution_count": null,
   "metadata": {},
   "outputs": [],
   "source": [
    "Make sure audiences are kept in curiosity until the climax "
   ]
  },
  {
   "cell_type": "markdown",
   "metadata": {},
   "source": [
    "#  3 Effective Visualizations"
   ]
  },
  {
   "cell_type": "code",
   "execution_count": null,
   "metadata": {},
   "outputs": [],
   "source": [
    "choose write visulization and hanndel your data insite fully."
   ]
  },
  {
   "cell_type": "code",
   "execution_count": null,
   "metadata": {},
   "outputs": [],
   "source": [
    "Use correct and suitable visulization and handle your data in miningfull way"
   ]
  },
  {
   "cell_type": "markdown",
   "metadata": {},
   "source": [
    "# -----------------------------------------"
   ]
  },
  {
   "cell_type": "markdown",
   "metadata": {},
   "source": [
    "# Theory of Data Graphics"
   ]
  },
  {
   "cell_type": "markdown",
   "metadata": {},
   "source": [
    "# Graphical integrity"
   ]
  },
  {
   "cell_type": "code",
   "execution_count": null,
   "metadata": {},
   "outputs": [],
   "source": [
    "* Graphical integrity refers to how accurately visual elements represent data.\n",
    "\n",
    "* The representation of numbers, as physically measured on the \n",
    "surface of the graph itself, should be directly proportional to \n",
    "the numerical quantities represented"
   ]
  },
  {
   "cell_type": "markdown",
   "metadata": {},
   "source": [
    "# Lie Factor"
   ]
  },
  {
   "cell_type": "code",
   "execution_count": null,
   "metadata": {},
   "outputs": [],
   "source": [
    "* Lie Factor = Size of effect showen in Graphic / Size of effect in data \n",
    "\n",
    "*Lie Factor is a value that is used for describe the relationship between size of effect shown in graphic\n",
    " and the size of effect in the data.\n",
    "    \n",
    "    Eg : in the Most of the fast food restaurant like KFC , Buger king MC Donals advertiesment\n",
    "         they advertize the foods in a fully actractive and fictional way. but in the reality it s not like that\n",
    "         in reality is is not actractive like what they are shown in the advertisements.\n",
    "        \n",
    "        attributes : Rotated to most Atractive Angale , Slightly Flufeed up in the adverisement.\n",
    "                \n",
    "         same as that in google play store there are so many apps, they are using some actractive icons\n",
    "         and present it in aractive way. but in reality most of the apps , they don t have things that there \n",
    "         are shown the images.\n",
    "        \n",
    "        attributes : Actractive icons , eye catching colors , acrative fonts"
   ]
  },
  {
   "cell_type": "code",
   "execution_count": null,
   "metadata": {},
   "outputs": [],
   "source": [
    "the have shown the presentages , but the size of the visual dosent reprent the showen data\n",
    "if we are useing size ant the data numbers we have to keep the varance equaly."
   ]
  },
  {
   "cell_type": "markdown",
   "metadata": {},
   "source": [
    "# Data ink Ratio"
   ]
  },
  {
   "cell_type": "code",
   "execution_count": null,
   "metadata": {},
   "outputs": [],
   "source": [
    "Data ink ratio means how much of data ink is used to show vs the entire Graphic ink\n",
    "\n",
    "so the all backgraound colors , those lines are graphic inks rather than using so many graphic inks\n",
    "we can simply show this graph use white background.\n",
    "\n",
    "'so more data ink means we are adding more Complexsity for the visual. \n",
    "'so it is hard to understand the visulaization'\n",
    "\n",
    "'data ink ratio = Data ink / Total ink Used to Print the graphic.'"
   ]
  },
  {
   "cell_type": "markdown",
   "metadata": {},
   "source": [
    "# Main Steps for Data ink Ratio"
   ]
  },
  {
   "cell_type": "code",
   "execution_count": null,
   "metadata": {},
   "outputs": [],
   "source": [
    "* Above all else show data\n",
    "* Maximize the data ink ratio which means get rid of unwanted ink that we use.\n",
    "* Erase Non Data ink\n",
    "* Erase Redundent Data ink\n",
    "* Revise and edit"
   ]
  },
  {
   "cell_type": "markdown",
   "metadata": {},
   "source": [
    "# Data Density"
   ]
  },
  {
   "cell_type": "code",
   "execution_count": null,
   "metadata": {},
   "outputs": [],
   "source": [
    "There are graphs we can use in a less amount of space and convay the same message.\n",
    "we can use this for trend analysis. \n",
    "becosue we are looking at the trend not regading the data."
   ]
  },
  {
   "cell_type": "markdown",
   "metadata": {},
   "source": [
    "# -----------------------------------------"
   ]
  },
  {
   "cell_type": "markdown",
   "metadata": {},
   "source": [
    "# Shrink Principle"
   ]
  },
  {
   "cell_type": "code",
   "execution_count": null,
   "metadata": {},
   "outputs": [],
   "source": [
    "most of the graphs can be shrunk way down without losing legibilty or information"
   ]
  },
  {
   "cell_type": "markdown",
   "metadata": {},
   "source": [
    "# Information placement"
   ]
  },
  {
   "cell_type": "code",
   "execution_count": null,
   "metadata": {},
   "outputs": [],
   "source": [
    "Usualy people read this using z (zigzag pattren)"
   ]
  },
  {
   "cell_type": "markdown",
   "metadata": {},
   "source": [
    "# Eliminating Clutter"
   ]
  },
  {
   "cell_type": "code",
   "execution_count": null,
   "metadata": {},
   "outputs": [],
   "source": [
    "Clutter means too much of data\n",
    "it will helps to emphasize on the wanted data points."
   ]
  },
  {
   "cell_type": "markdown",
   "metadata": {},
   "source": [
    "# -----------------------------------------------"
   ]
  },
  {
   "cell_type": "markdown",
   "metadata": {},
   "source": [
    "# Misleading Graphs"
   ]
  },
  {
   "cell_type": "code",
   "execution_count": null,
   "metadata": {},
   "outputs": [],
   "source": [
    "Any Graph that distract the reader from fully understaning is Misleading Graphs :\n",
    "    \n",
    "    Graphs with no title\n",
    "    Graphs with no Axises\n",
    "    Graphs that mention the Axises \n",
    "    Graphs with muliti colors , distracting colors\n",
    "    Graphs thats y axises dosent start with 0\n",
    "    Graphs with out equal intervals\n",
    "    Graphs with squished axis\n",
    "    graphs with so many clutter.\n",
    "    graps with diffrent size of icons or bars."
   ]
  },
  {
   "cell_type": "markdown",
   "metadata": {},
   "source": [
    "# Visulization vs Descriptive statistic "
   ]
  },
  {
   "cell_type": "code",
   "execution_count": null,
   "metadata": {},
   "outputs": [],
   "source": [
    "Descriptive statistics make raw data more understandable, but data \n",
    "visualization takes a step farther and provides\n",
    "a picture that quickly conveys a story.\n",
    "\n",
    "Visulizations are the single most\n",
    "effective way of delivering\n",
    "a ideas and solution.\n",
    "\n",
    "because Vuisulizaion can directly engage with peoples emotion\n",
    "so Major decisions are made\n",
    "often emotionally than\n",
    "logically.\n",
    "\n",
    "People hear and see statistics,\n",
    "But they feel the visulis.\n",
    "\n",
    "by usizing visuization we can present our data in\n",
    "a meaningful manner.\n",
    "\n",
    "by using visulization we Engage our audience effectivly.\n",
    "\n",
    "visulizations helps to get a good impression rather than statistics.\n",
    "trust is built on first impression\n",
    "\n",
    "visulization helps us to keep our Audieance in curiosity"
   ]
  },
  {
   "cell_type": "markdown",
   "metadata": {},
   "source": [
    "# ============================ Lec 5 ========================="
   ]
  },
  {
   "cell_type": "markdown",
   "metadata": {},
   "source": [
    "# ------------  Semiology of Graphics--------------"
   ]
  },
  {
   "cell_type": "markdown",
   "metadata": {},
   "source": [
    "# What is Semiotics"
   ]
  },
  {
   "cell_type": "code",
   "execution_count": null,
   "metadata": {},
   "outputs": [],
   "source": [
    "Semiology or Semiotics is the study of Signs and Sysmboles \n",
    "It explores how words and other signs and Sysmboles make meaning. "
   ]
  },
  {
   "cell_type": "code",
   "execution_count": null,
   "metadata": {},
   "outputs": [],
   "source": [
    "Brain has an ability to identify the patern and the words relating to images."
   ]
  },
  {
   "cell_type": "markdown",
   "metadata": {},
   "source": [
    "# Signs"
   ]
  },
  {
   "cell_type": "code",
   "execution_count": null,
   "metadata": {},
   "outputs": [],
   "source": [
    "Signs are devided in to 2 \n",
    "\n",
    "* Signifier : The phycial form of the sign / such as a sound , word or image that create a communication.\n",
    "    \n",
    "* Signified : The concept that a signifier refers to (the mentel Concept) eg: Fresh , Healthy , temptation \n"
   ]
  },
  {
   "cell_type": "code",
   "execution_count": null,
   "metadata": {},
   "outputs": [],
   "source": [
    "# Signifier devided in to 3 again\n",
    "\n",
    "Icon    : An Icon has a phycical resemblance to the signified  \n",
    "           (dakina ekama thama hithneh)\n",
    "    \n",
    "Symbole : Symbol is the opposite of an icon , so it dose not resemble the signifier that is being represented.\n",
    "    \n",
    "         eg : MC donals logo its just a simple M but it reprent it.\n",
    "            : Female and male icons reprent the Toilet.\n",
    "\n",
    "Index   : An Index describes the physical connection between a signifier and the signified\n",
    "          that means signifier cannot exit without the phyciacl presence of the signified."
   ]
  },
  {
   "cell_type": "markdown",
   "metadata": {},
   "source": [
    "# Advantage of Semiotics"
   ]
  },
  {
   "cell_type": "code",
   "execution_count": null,
   "metadata": {},
   "outputs": [],
   "source": [
    "* IT help us to get beyond the obvious which may not be observes at all.\n",
    "\n",
    "* Allows us to look for patterns accross diffrent forms of communication.\n",
    "\n",
    "* Allows us to break down a message in to small parts and examin them.\n",
    "\n",
    "* Semiotics helps us to kept the pople in curiosity.\n",
    "\n",
    "* so By understanding how humans relate to semiotics, effective communication and \n",
    "influencing can be done.\n"
   ]
  },
  {
   "cell_type": "markdown",
   "metadata": {},
   "source": [
    "# Semiotics in real world"
   ]
  },
  {
   "cell_type": "code",
   "execution_count": null,
   "metadata": {},
   "outputs": [],
   "source": [
    "Common examples of semiotics include traffic signs, emojis, and emoticons used in electronic communication,\n",
    "and logos and brands used by international corporations to sell us things\n",
    "\n",
    " Semiotics can help determine what signs/messages should be used, what signs/messages should be avoided,\n",
    "and whether proposed options are likely to have the desired impact\n",
    "\n",
    "movies wala post \n",
    "\n",
    " MC donals logo its just a simple M but it reprent it.\n",
    ": Female and male icons reprent the Toilet. road signs\n",
    "   \n",
    "'Displaced Codes':\n",
    "*Bubble gum Ad that used bright light set as a human teeth,\n",
    "\n",
    "'Metonymic Codes;\n",
    "*  there is Perfeume Ad that make us understand that therir perfume gets you married\n",
    "*  red bull this ad also meke us understand that that drink gives us wings\n",
    "*  coke makes friends \n",
    "*  sprit - Tuition ad that make us understand that sprit can gets you a g\n"
   ]
  },
  {
   "cell_type": "markdown",
   "metadata": {},
   "source": [
    "# Conduct a semiotic analysis?"
   ]
  },
  {
   "cell_type": "code",
   "execution_count": null,
   "metadata": {},
   "outputs": [],
   "source": [
    "Semiotic analysis is done by performing different types of \n",
    "qualitative research\n",
    "\n",
    "        Open-Ended Questions\n",
    "        Abstract Questions\n",
    "        Probing Questions\n",
    "        Projective techniques"
   ]
  },
  {
   "cell_type": "markdown",
   "metadata": {},
   "source": [
    " Open-Ended Questions"
   ]
  },
  {
   "cell_type": "code",
   "execution_count": null,
   "metadata": {},
   "outputs": [],
   "source": [
    "Using surveys or interviews, collect as many interpretations as possible.\n",
    "Determine the prevalent interpretation and see if it matches to the idea you want to convey."
   ]
  },
  {
   "cell_type": "markdown",
   "metadata": {},
   "source": [
    "Abstract Questions"
   ]
  },
  {
   "cell_type": "code",
   "execution_count": null,
   "metadata": {},
   "outputs": [],
   "source": [
    "Expand hidden meanings of symbols to check if there are any alternate interpretations you might have missed.\n",
    "Focus groups or team brainstorming sessions are your tools in this situation."
   ]
  },
  {
   "cell_type": "markdown",
   "metadata": {},
   "source": [
    "Probing Questions"
   ]
  },
  {
   "cell_type": "code",
   "execution_count": null,
   "metadata": {},
   "outputs": [],
   "source": [
    "Rethink an answer and explain it further. Use a \n",
    "content matrix or mind maps to uncover more \n",
    "meanings behind a concept"
   ]
  },
  {
   "cell_type": "markdown",
   "metadata": {},
   "source": [
    "Projective techniques"
   ]
  },
  {
   "cell_type": "code",
   "execution_count": null,
   "metadata": {},
   "outputs": [],
   "source": [
    "Get insights into the psychological attitudes of the audience. \n",
    "\n",
    "For example, if you want to understand whether your brand logo is youthful, ask a \n",
    "focus group to imagine it as if it were a person"
   ]
  },
  {
   "cell_type": "markdown",
   "metadata": {},
   "source": [
    "# Semiotic Storytelling"
   ]
  },
  {
   "cell_type": "code",
   "execution_count": null,
   "metadata": {},
   "outputs": [],
   "source": [
    "Visual Identity\n",
    "Verbal Identity\n",
    "Behavioral Identity"
   ]
  },
  {
   "cell_type": "markdown",
   "metadata": {},
   "source": [
    "# Semiotic Codes"
   ]
  },
  {
   "cell_type": "code",
   "execution_count": null,
   "metadata": {},
   "outputs": [],
   "source": [
    "Metonymic,\n",
    "Analogical, \n",
    "Displaced,\n",
    "Condensed."
   ]
  },
  {
   "cell_type": "markdown",
   "metadata": {},
   "source": [
    "# 1) Metonymic Codes"
   ]
  },
  {
   "cell_type": "code",
   "execution_count": null,
   "metadata": {},
   "outputs": [],
   "source": [
    "A collection of signs that cause a viewer to make an \n",
    "association or assumption.\n",
    "\n",
    "We make assumptions about what we see because of the group of things\n",
    "\n",
    "Eg : *  there is Perfeume Ad that make us understand that therir perfume gets you married\n",
    "     *  red bull this ad also meke us understand that that drink gives us wings\n",
    "     *  coke makes friends \n",
    "     *  sprit - Tuition ad that make us understand that sprit can gets you a girl\n",
    "    "
   ]
  },
  {
   "cell_type": "markdown",
   "metadata": {},
   "source": [
    "Analogical codes"
   ]
  },
  {
   "cell_type": "code",
   "execution_count": null,
   "metadata": {},
   "outputs": [],
   "source": [
    "Analogical codes are groups of signs that make the viewer of the image make a mental comparison between 2 things. "
   ]
  },
  {
   "cell_type": "markdown",
   "metadata": {},
   "source": [
    "Displaced Codes"
   ]
  },
  {
   "cell_type": "code",
   "execution_count": null,
   "metadata": {},
   "outputs": [],
   "source": [
    "“Stand-in images” that transfer meaning from one set of signs to another\n",
    "\n",
    "        eg : *Bubble gum Ad that used bright light set as a human teeth,\n",
    "             *there was a cover page in a GLOBE FOCUS magasine , That shows a some gases come out from a \n",
    "             fractory as a Qusestion mark , Like polution qusetion."
   ]
  },
  {
   "cell_type": "markdown",
   "metadata": {},
   "source": [
    "# Gestalt Principles"
   ]
  },
  {
   "cell_type": "code",
   "execution_count": null,
   "metadata": {},
   "outputs": [],
   "source": [
    "Gastelt Principe is a Psychological team , \n",
    "\n",
    "Gestalt Principles are human perception principles/laws that describe how we group similar elements,\n",
    "identify patterns, and simplify complicated pictures as we perceive objects.\n",
    "\n",
    "There are six individual principles commonly associated with gestalt theory"
   ]
  },
  {
   "cell_type": "markdown",
   "metadata": {},
   "source": [
    "# 1 Figure-Ground"
   ]
  },
  {
   "cell_type": "code",
   "execution_count": null,
   "metadata": {},
   "outputs": [],
   "source": [
    "Our Eye diffrentiates an object from its surrounding area. \n",
    "shape is perceved as figure while surrounding area is perceved as ground\n",
    "\n",
    "People automatically see items as being in the foreground or the background, according to this theory."
   ]
  },
  {
   "cell_type": "markdown",
   "metadata": {},
   "source": [
    "# ![](Capture.png)"
   ]
  },
  {
   "cell_type": "markdown",
   "metadata": {},
   "source": [
    "# 2 Similarity "
   ]
  },
  {
   "cell_type": "code",
   "execution_count": null,
   "metadata": {},
   "outputs": [],
   "source": [
    "items that are ( same,similer) group together\n",
    "in here our brain naturally notice a pattren , so circles will be groped together by our brain\n",
    "And we also tend to think they have the same function."
   ]
  },
  {
   "cell_type": "markdown",
   "metadata": {},
   "source": [
    "# ![](Capture1.png)"
   ]
  },
  {
   "cell_type": "markdown",
   "metadata": {},
   "source": [
    "# 3 Continuity / Continuation"
   ]
  },
  {
   "cell_type": "code",
   "execution_count": null,
   "metadata": {},
   "outputs": [],
   "source": [
    "This Occurs when our eyes is complelled to move thorought on object and continue to other oject,\n",
    "\n",
    "Law explains how our brain experiences visual line of elements that are grouped together. \n",
    "There is a tendency to perceive a line continuing its established direction."
   ]
  },
  {
   "cell_type": "markdown",
   "metadata": {},
   "source": [
    "![](Capture3.png)"
   ]
  },
  {
   "cell_type": "markdown",
   "metadata": {},
   "source": [
    "# 4 Closure"
   ]
  },
  {
   "cell_type": "code",
   "execution_count": null,
   "metadata": {},
   "outputs": [],
   "source": [
    "Object grouped together are seen as a whole\n",
    "this occuers when an element is incomplete or a space is not totally enclosed\n",
    "so in this case our mind natuarly fills this area.\n",
    "\n",
    "States that when we look at a complex arrangement of visual \n",
    "elements, we tend to look for a single, recognizable pattern"
   ]
  },
  {
   "cell_type": "markdown",
   "metadata": {},
   "source": [
    "![](Capture4.png)"
   ]
  },
  {
   "cell_type": "markdown",
   "metadata": {},
   "source": [
    "# 5 Proximity"
   ]
  },
  {
   "cell_type": "code",
   "execution_count": null,
   "metadata": {},
   "outputs": [],
   "source": [
    "* Proximity occurs when elements are places closed to each other\n",
    "* the Position of these elemets helps to portaru a relation ship bettern the separate part\n",
    "\n",
    "States that things that are close together appear to be \n",
    "more related than things that are spaced farther apart"
   ]
  },
  {
   "cell_type": "markdown",
   "metadata": {},
   "source": [
    "![](Capture5.png)"
   ]
  },
  {
   "cell_type": "markdown",
   "metadata": {},
   "source": [
    "# 6 Focal Points"
   ]
  },
  {
   "cell_type": "code",
   "execution_count": null,
   "metadata": {},
   "outputs": [],
   "source": [
    "States that whatever stands out visually will capture and \n",
    "hold the viewer’s attention first.\n",
    "This Priciple suggests that our attention will be drawn towards contrast."
   ]
  },
  {
   "cell_type": "markdown",
   "metadata": {},
   "source": [
    "![](Capture6.png)"
   ]
  },
  {
   "cell_type": "markdown",
   "metadata": {},
   "source": [
    "# 7 Common Region"
   ]
  },
  {
   "cell_type": "code",
   "execution_count": null,
   "metadata": {},
   "outputs": [],
   "source": [
    "States that when objects are located within the same closed \n",
    "region, we perceive them as being grouped together"
   ]
  },
  {
   "cell_type": "markdown",
   "metadata": {},
   "source": [
    "# News papaer and presentation"
   ]
  },
  {
   "cell_type": "code",
   "execution_count": null,
   "metadata": {},
   "outputs": [],
   "source": [
    "before going in to complex visulizations \n",
    "i think it better to follow Understand the Context , building Narrative and use Effective Visualizations.\n",
    "\n",
    "'when it comes to Understand contects \n",
    "its better to get a idea regaurding \n",
    "\n",
    "Who  : understand who we are tragating , which means understand who is our audiance. \n",
    "What : understand what to tell for the audiance and understand what our audiance is expecting from us and the data.\n",
    "why  : Understand why those messages importent , based on the importence build the story line.\n",
    "\n",
    "'Building Narrative \n",
    "This is improtent becouse in the intaial stage befor going into deep \n",
    "peoples see theme and title. so that 1st impression is importent.\n",
    "then we can engage more people (audience) by appealing a theme.\n",
    "\n",
    "this is very importent becouse this is the one which communicate 1st to the audiance.\n",
    "so the 1st impression is more importent to build the trust.\n",
    "So it will helps to engage more people effectivly by appealing theame.\n",
    "and it will helps to get attraction as well\n",
    "\n",
    "'Effective Visualizations\n",
    "choose write visulization and hanndel your data insite fully.\n",
    "Use correct and suitable visulization and handle your data in miningfull way\n",
    "when it comes to the news paper artical there are too much or data.\n",
    "by using cisulization acualy we can summerise that one,\n"
   ]
  },
  {
   "cell_type": "code",
   "execution_count": null,
   "metadata": {},
   "outputs": [],
   "source": []
  },
  {
   "cell_type": "code",
   "execution_count": null,
   "metadata": {},
   "outputs": [],
   "source": []
  },
  {
   "cell_type": "code",
   "execution_count": null,
   "metadata": {},
   "outputs": [],
   "source": []
  },
  {
   "cell_type": "code",
   "execution_count": null,
   "metadata": {},
   "outputs": [],
   "source": []
  },
  {
   "cell_type": "code",
   "execution_count": null,
   "metadata": {},
   "outputs": [],
   "source": []
  },
  {
   "cell_type": "code",
   "execution_count": null,
   "metadata": {},
   "outputs": [],
   "source": []
  },
  {
   "cell_type": "code",
   "execution_count": null,
   "metadata": {},
   "outputs": [],
   "source": []
  },
  {
   "cell_type": "code",
   "execution_count": null,
   "metadata": {},
   "outputs": [],
   "source": []
  },
  {
   "cell_type": "code",
   "execution_count": null,
   "metadata": {},
   "outputs": [],
   "source": []
  },
  {
   "cell_type": "code",
   "execution_count": null,
   "metadata": {},
   "outputs": [],
   "source": []
  },
  {
   "cell_type": "code",
   "execution_count": null,
   "metadata": {},
   "outputs": [],
   "source": []
  },
  {
   "cell_type": "code",
   "execution_count": null,
   "metadata": {},
   "outputs": [],
   "source": []
  },
  {
   "cell_type": "code",
   "execution_count": null,
   "metadata": {},
   "outputs": [],
   "source": []
  },
  {
   "cell_type": "code",
   "execution_count": null,
   "metadata": {},
   "outputs": [],
   "source": []
  },
  {
   "cell_type": "code",
   "execution_count": null,
   "metadata": {},
   "outputs": [],
   "source": []
  },
  {
   "cell_type": "code",
   "execution_count": null,
   "metadata": {},
   "outputs": [],
   "source": []
  },
  {
   "cell_type": "code",
   "execution_count": null,
   "metadata": {},
   "outputs": [],
   "source": []
  }
 ],
 "metadata": {
  "kernelspec": {
   "display_name": "Python 3",
   "language": "python",
   "name": "python3"
  },
  "language_info": {
   "codemirror_mode": {
    "name": "ipython",
    "version": 3
   },
   "file_extension": ".py",
   "mimetype": "text/x-python",
   "name": "python",
   "nbconvert_exporter": "python",
   "pygments_lexer": "ipython3",
   "version": "3.8.3"
  }
 },
 "nbformat": 4,
 "nbformat_minor": 4
}
