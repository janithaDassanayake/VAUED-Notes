{
 "cells": [
  {
   "cell_type": "markdown",
   "metadata": {},
   "source": [
    "# Data Gathering and Warehousing"
   ]
  },
  {
   "cell_type": "markdown",
   "metadata": {},
   "source": [
    "# Why Data Gathering in IoT?"
   ]
  },
  {
   "cell_type": "code",
   "execution_count": null,
   "metadata": {},
   "outputs": [],
   "source": [
    "Do do automation we need intelegens and data "
   ]
  },
  {
   "cell_type": "code",
   "execution_count": null,
   "metadata": {},
   "outputs": [],
   "source": [
    "we need information , which means we need extract or mine infromation\n",
    "and that data is can stored someware"
   ]
  },
  {
   "cell_type": "code",
   "execution_count": null,
   "metadata": {},
   "outputs": [],
   "source": [
    "if there is no market for paretuler service , if that servies is not ready for that partuler context\n"
   ]
  },
  {
   "cell_type": "code",
   "execution_count": null,
   "metadata": {},
   "outputs": [],
   "source": [
    "So Data Gathering is needed for do automaition \n",
    "Gather some data , extract inforation , relate those information for previos insidence\n",
    "and do some automation using those information.\n",
    "\n",
    "and data Gathering is importent is those data can be used to imrove future verion of a product."
   ]
  },
  {
   "cell_type": "markdown",
   "metadata": {},
   "source": [
    "# difference of data warehouse and database"
   ]
  },
  {
   "cell_type": "markdown",
   "metadata": {},
   "source": [
    "# ![](vvvv.jpg)"
   ]
  },
  {
   "cell_type": "markdown",
   "metadata": {},
   "source": [
    "# IoT Eco-system"
   ]
  },
  {
   "cell_type": "code",
   "execution_count": null,
   "metadata": {},
   "outputs": [],
   "source": [
    "An IoT Ecosystem is a combination of various IoT layers beginning from the user layer to the connectivity layer. "
   ]
  },
  {
   "cell_type": "markdown",
   "metadata": {},
   "source": [
    "![](bbb.png)"
   ]
  },
  {
   "cell_type": "markdown",
   "metadata": {},
   "source": [
    "# THe COMMON Cisco IOT Platform ARCHITECTURE"
   ]
  },
  {
   "cell_type": "code",
   "execution_count": null,
   "metadata": {},
   "outputs": [],
   "source": [
    "Data Center Cloud            ->  Applicaton Hosting Managemnt\n",
    "\n",
    "Core                         ->  Security , Network Services , Mobile Packet Core. \n",
    "\n",
    "Multi Services Edge          ->  3G / 4G / LTE\n",
    "\n",
    "Embedded Systems and Sensors ->  Smart and Less smart things / Vehicals."
   ]
  },
  {
   "cell_type": "markdown",
   "metadata": {},
   "source": [
    "# Layered Architecture in IoT Networks"
   ]
  },
  {
   "cell_type": "code",
   "execution_count": null,
   "metadata": {},
   "outputs": [],
   "source": [
    "IOT system Architechture is genarally devided in to three layers.\n",
    "\n",
    "It proposes three layers: Perception, Network, and Application. \n",
    "This is the physical layer of the architecture. \n",
    "This is where the sensors and connected devices come into play as they gather various \n",
    "amounts of data as per the need of the project. These can be the edge devices, sensors, and actuators \n",
    "that interact with their environment."
   ]
  },
  {
   "cell_type": "markdown",
   "metadata": {},
   "source": [
    "# * Perseption Layer"
   ]
  },
  {
   "cell_type": "code",
   "execution_count": null,
   "metadata": {},
   "outputs": [],
   "source": [
    "​ This perception  layer is the IoT architecture’s physical layer.\n",
    "​ In these  sensors and Accuators are used mainly. \n",
    "​ in this layer what happen is Sensors, actuators and edge devices that interact with the environment  "
   ]
  },
  {
   "cell_type": "markdown",
   "metadata": {},
   "source": [
    "# * The network layer"
   ]
  },
  {
   "cell_type": "code",
   "execution_count": null,
   "metadata": {},
   "outputs": [],
   "source": [
    "​ The data collected by these devices must be distributed and stored. This is the network layer s duty.\n",
    "  \n",
    "​ Discovers, connects and translates devices over a network and in coordination with the application layer\n",
    "\n",
    "​ it binds these intelligent objects to other intelligent/ smart objects.  It is also in charge of data transfer"
   ]
  },
  {
   "cell_type": "markdown",
   "metadata": {},
   "source": [
    "# * Application Layer "
   ]
  },
  {
   "cell_type": "code",
   "execution_count": null,
   "metadata": {},
   "outputs": [],
   "source": [
    "​ The user communicates with this application layer.\n",
    "​ The collected and analyzed data is presented to the end user in application layer.\n",
    "​ This may used to control the overall system\n",
    "\n",
    "Eg : smart houses, smart cities, and smart health."
   ]
  },
  {
   "cell_type": "markdown",
   "metadata": {},
   "source": [
    "# ![](cvx.png)"
   ]
  },
  {
   "cell_type": "markdown",
   "metadata": {},
   "source": [
    "# 5 layer "
   ]
  },
  {
   "cell_type": "markdown",
   "metadata": {},
   "source": [
    "https://www.geeksforgeeks.org/5-layer-architecture-of-internet-of-things/"
   ]
  },
  {
   "cell_type": "markdown",
   "metadata": {},
   "source": [
    "# Market"
   ]
  },
  {
   "cell_type": "markdown",
   "metadata": {},
   "source": [
    "# ![](bv.png)"
   ]
  },
  {
   "cell_type": "markdown",
   "metadata": {},
   "source": [
    "# Acquisition"
   ]
  },
  {
   "cell_type": "code",
   "execution_count": null,
   "metadata": {},
   "outputs": [],
   "source": [
    "The layer that the are collected to provide smart services. \n",
    "Sensors , Devices  people are connected to Acquisition.\n",
    "\n",
    "Leak / Leavels\n",
    "Flow\n",
    "Electric/magnetic\n",
    "Temperature\n",
    "Humidity \n",
    "Motion /Velocity"
   ]
  },
  {
   "cell_type": "markdown",
   "metadata": {},
   "source": [
    "# Interconnection Protocols"
   ]
  },
  {
   "cell_type": "code",
   "execution_count": null,
   "metadata": {},
   "outputs": [],
   "source": [
    "'Application Layer' : Rest / MQTT / CoAP / DDS / XMPP / SSI\n",
    "\n",
    "--------------------------------------------------\n",
    "\n",
    "'Transport Layer'    : TCP / UDP \n",
    "'Transport Security' : TLS / DTLS\n",
    "    \n",
    "--------------------------------------------    \n",
    "'Network Layer'      : IPv4 / IPv6     \n",
    "    \n",
    "--------------------------------------------  \n",
    "'Link Layer/Physical' : LR - WPAN / Bluetooth / Thread / LTE /"
   ]
  },
  {
   "cell_type": "markdown",
   "metadata": {},
   "source": [
    "# Integrations: Things"
   ]
  },
  {
   "cell_type": "code",
   "execution_count": null,
   "metadata": {},
   "outputs": [],
   "source": [
    "'Tagging Things' = tag and Traking\n",
    "\n",
    "'Feeling Things' = Sensor technologies  : / Eyes: Collecting Data / Hands: Implementing actions\n",
    "\n",
    "'Srinking Things' = nanotechnology\n",
    "\n",
    "'Thinking Things' = Smart technologies \n",
    "                   * Passive     - smart materials that respond directly and uniformly\n",
    "    \n",
    "                   * Active      - smart materials that can, with a remote controller, sense a signal\n",
    "                                   and determine how to respond\n",
    "                   \n",
    "                   * Autonomous  - smart materials that carry fully integrated controllers, sensors and actuators"
   ]
  },
  {
   "cell_type": "markdown",
   "metadata": {},
   "source": [
    "# Big data "
   ]
  },
  {
   "cell_type": "markdown",
   "metadata": {},
   "source": [
    "# ![](klk.png)"
   ]
  },
  {
   "cell_type": "code",
   "execution_count": null,
   "metadata": {},
   "outputs": [],
   "source": []
  },
  {
   "cell_type": "code",
   "execution_count": null,
   "metadata": {},
   "outputs": [],
   "source": []
  },
  {
   "cell_type": "code",
   "execution_count": null,
   "metadata": {},
   "outputs": [],
   "source": []
  },
  {
   "cell_type": "code",
   "execution_count": null,
   "metadata": {},
   "outputs": [],
   "source": []
  }
 ],
 "metadata": {
  "kernelspec": {
   "display_name": "Python 3",
   "language": "python",
   "name": "python3"
  },
  "language_info": {
   "codemirror_mode": {
    "name": "ipython",
    "version": 3
   },
   "file_extension": ".py",
   "mimetype": "text/x-python",
   "name": "python",
   "nbconvert_exporter": "python",
   "pygments_lexer": "ipython3",
   "version": "3.8.3"
  }
 },
 "nbformat": 4,
 "nbformat_minor": 4
}
