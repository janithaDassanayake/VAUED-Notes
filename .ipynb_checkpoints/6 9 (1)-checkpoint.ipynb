{
 "cells": [
  {
   "cell_type": "markdown",
   "metadata": {},
   "source": [
    "# =======================Lec 6 ==========================="
   ]
  },
  {
   "cell_type": "markdown",
   "metadata": {},
   "source": [
    "# What is Data Visualization?"
   ]
  },
  {
   "cell_type": "code",
   "execution_count": null,
   "metadata": {},
   "outputs": [],
   "source": [
    "Data visualization is the graphical representation of facts and data. \n",
    "By using visual elements like charts, graphs, and maps, data visualization tools provide \n",
    "an accessible way to see and understand , and make insigts and dessions by it."
   ]
  },
  {
   "cell_type": "markdown",
   "metadata": {},
   "source": [
    "# Why Visualization?"
   ]
  },
  {
   "cell_type": "code",
   "execution_count": null,
   "metadata": {},
   "outputs": [],
   "source": [
    "​ Descriptive statistics make raw data more understandable, but data \n",
    "  visualization takes a step farther and provides a picture that quickly conveys a story.\n",
    "\n",
    "​ Visulizations are the single most effective way of delivering a ideas and solution.\n",
    "\n",
    "​ because Vuisulizaion can directly engage with peoples emotion\n",
    "  so Major decisions are made often emotionally than logically.\n",
    "\n",
    "​ People hear and see statistics,But they feel the visulis.\n",
    "\n",
    "​ by usizing visuization we can present our data in a meaningful manner.\n",
    "\n",
    "​ by using visulization we Engage our audience effectivly.\n",
    "\n",
    "​ visulizations helps to get a good impression rather than statistics.trust is built on first impression\n",
    "\n",
    "​ visulization helps us to keep our Audieance in curiosity"
   ]
  },
  {
   "cell_type": "markdown",
   "metadata": {},
   "source": [
    "# ------------------------------------------------------------------"
   ]
  },
  {
   "cell_type": "markdown",
   "metadata": {},
   "source": [
    "# Data Visualization vs Visual Analytics"
   ]
  },
  {
   "cell_type": "code",
   "execution_count": null,
   "metadata": {},
   "outputs": [],
   "source": [
    "Visual Analytics offres Advanced analytics while Data Visualization don t\n",
    "\n",
    "visualization typically focuses on abstract data while Visual analytics \n",
    "emphasizes analytical reasoning about data.\n",
    "\n",
    "Visual Analytics helps quickly and fast create many different \n",
    "views of your data while data visulization don t.\n",
    "\n",
    "\n",
    "Both shows the data points , Problems , issues or key indicators\n",
    "both are  A visual presentation of data, such as a dashboard or a report.\n",
    "both are Supports interactivity "
   ]
  },
  {
   "cell_type": "markdown",
   "metadata": {},
   "source": [
    "# Type of Data Visualization"
   ]
  },
  {
   "cell_type": "markdown",
   "metadata": {},
   "source": [
    "# 1) Scientific Visualization : Structural Data – Medical "
   ]
  },
  {
   "cell_type": "code",
   "execution_count": null,
   "metadata": {},
   "outputs": [],
   "source": [
    "it refers to the process of reprecenting scientific data and informations as images \n",
    "and helps them to understand their sensitive data and make decison making in effective way.\n",
    "\n",
    "​ Computer animation   : those are animated images\n",
    "​ Computer simulation  : mathamaticaly simulte the outcome\n",
    "​ Volume rendering     : Display 2D projection of a 3D sample data\n",
    "​ Volume visualization : mostly present data in three dimentional Grid"
   ]
  },
  {
   "cell_type": "markdown",
   "metadata": {},
   "source": [
    "# 2) Information Visualization"
   ]
  },
  {
   "cell_type": "code",
   "execution_count": null,
   "metadata": {},
   "outputs": [],
   "source": [
    "Information Visualization represent the data in a way\n",
    "that a non techincal people can also easy understand. \n",
    "and this apporche make our life easier.\n",
    "\n",
    "this will mainly used in business side \n",
    "\n",
    "​ Presentation : helps to summerize the complex data. and make it usefull\n",
    "​ Explorative Analysis  : it will provid ovrall idean and relationship in the data\n",
    "    \n",
    "Information visualization can also be used to help confirm our understanding and analysis of data.\n",
    "​ Predictive visulization : stock market / sales / invntories"
   ]
  },
  {
   "cell_type": "markdown",
   "metadata": {},
   "source": [
    "# 3 ) Visual Analytics\n"
   ]
  },
  {
   "cell_type": "code",
   "execution_count": null,
   "metadata": {},
   "outputs": [],
   "source": [
    "it is a analysis of multimodel data - Audio , video , images. "
   ]
  },
  {
   "cell_type": "markdown",
   "metadata": {},
   "source": [
    "# Data Visualization Process"
   ]
  },
  {
   "cell_type": "code",
   "execution_count": null,
   "metadata": {},
   "outputs": [],
   "source": [
    "​ Acquire - Obtain the data, whether from a file on a disk or a source over a network.\n",
    "\n",
    "​ Parse - Provide some structure for the data's meaning, and order it into categories.\n",
    "\n",
    "​ Filter - Remove all but the data of interest.\n",
    "\n",
    "​ Mine - Apply methods from statistics or data mining as a way to discern patterns or place the data in mathematical context.\n",
    "\n",
    "​ Represent - Choose a basic visual model, such as a bar graph, list, or tree.\n",
    "\n",
    "​ Refine - Improve the basic representation to make it clearer and more visually engaging.\n",
    "\n",
    "​ Interact - Add methods for manipulating the data or controlling what features are visible.\n"
   ]
  },
  {
   "cell_type": "markdown",
   "metadata": {},
   "source": [
    "# 5-step guide to data visualization "
   ]
  },
  {
   "cell_type": "code",
   "execution_count": null,
   "metadata": {},
   "outputs": [],
   "source": [
    "​ Step 1 - understand the question and make the doubts clear.\n",
    "​ Step 2 - Know your data and start with basic visualizations.\n",
    "​ Step 3 - Identify messages of the visualization, and generate the most informative indicator.\n",
    "​ Step 4 - Choose the right chart type.\n",
    "​ Step 5 - Use color, size, scale, shapes and labels to direct attention to the key messages."
   ]
  },
  {
   "cell_type": "markdown",
   "metadata": {},
   "source": [
    "# ----------------------------------Big Data-----------------------------------"
   ]
  },
  {
   "cell_type": "markdown",
   "metadata": {},
   "source": [
    "# Drivers of Modern Big Data"
   ]
  },
  {
   "cell_type": "code",
   "execution_count": null,
   "metadata": {},
   "outputs": [],
   "source": [
    "* Internet and the Brodband connection\n",
    "* data storgaes :  Hard drive and / SSDs\n",
    "* mobile devices : Collect personal and spatial data.\n",
    "* Cloud computing: distributed computations on thousands of commodity machines.\n",
    "* Cheaper sensors/camera\n",
    "* IoT and sensors:"
   ]
  },
  {
   "cell_type": "markdown",
   "metadata": {},
   "source": [
    "# What is big data?"
   ]
  },
  {
   "cell_type": "code",
   "execution_count": null,
   "metadata": {},
   "outputs": [],
   "source": [
    "​ Volume  :  \n",
    "        The large amount of data that is being generated / massive\n",
    "        \n",
    "​ Variety : Data is from diffrent Format \n",
    "        Structured Data\n",
    "        Semi-Structured Data\n",
    "        Unstructured Data\n",
    "\n",
    "​ Velocity :\n",
    "        The rate of data generation\n",
    "        efers to the speed with which data is generated\n",
    "        An example of a data that is generated with high velocity would be Twitter messages or Facebook posts.\n",
    "\n",
    "​ Veracity: \n",
    "        the meaning of the data is unsecure\n",
    "        inputs may be noisy, manipulated or misinterpreted\n",
    "        consider data objects as samples not facts\n",
    "\n",
    "        --------------------------------\n",
    "​ Value : \n",
    "      it desctibe the buiness value of the collected data \n",
    "        so the data it self on importent , it need to convert in to valueable one."
   ]
  },
  {
   "cell_type": "markdown",
   "metadata": {},
   "source": [
    "# Slide"
   ]
  },
  {
   "cell_type": "code",
   "execution_count": null,
   "metadata": {},
   "outputs": [],
   "source": [
    "​ Flood of data (Big Data)\n",
    "​ Faster cycle times\n",
    "​ New devices to the lifestyle\n",
    "​ The introduction of Analytics by itself\n",
    "​ Involve more power users in exploratory data analysis"
   ]
  },
  {
   "cell_type": "markdown",
   "metadata": {},
   "source": [
    "# Big Data and Visualization"
   ]
  },
  {
   "cell_type": "code",
   "execution_count": null,
   "metadata": {},
   "outputs": [],
   "source": [
    "when it come to big data side , data are in de=iffrent format.\n",
    "by just looking at it we can t understand\n",
    "\n",
    "so visulaization making big data understanable.\n",
    "\n",
    "in the big data their is a buiness value. \n",
    "so visulization help us to convert in to valueable one."
   ]
  },
  {
   "cell_type": "markdown",
   "metadata": {},
   "source": [
    "# =======================Lec 9 ==========================="
   ]
  },
  {
   "cell_type": "markdown",
   "metadata": {},
   "source": [
    "# What is Visual Analytics?"
   ]
  },
  {
   "cell_type": "code",
   "execution_count": null,
   "metadata": {},
   "outputs": [],
   "source": [
    "Visual Analytics is effective way of analysing very large and complex data\n",
    "and it s combine automated analytical techniques with actractive visulization to help for\n",
    "effective understaning and decision making."
   ]
  },
  {
   "cell_type": "markdown",
   "metadata": {},
   "source": [
    "# whom visual analytics matter?"
   ]
  },
  {
   "cell_type": "code",
   "execution_count": null,
   "metadata": {},
   "outputs": [],
   "source": [
    "Research community \n",
    "\n",
    "Business community "
   ]
  },
  {
   "cell_type": "markdown",
   "metadata": {},
   "source": [
    "# Scope of Visual Analytics"
   ]
  },
  {
   "cell_type": "code",
   "execution_count": null,
   "metadata": {},
   "outputs": [],
   "source": [
    "Geospatial Analytics / Scientific Analaytics / Statistacl Analytics / Knowlaged Discovery"
   ]
  },
  {
   "cell_type": "markdown",
   "metadata": {},
   "source": [
    "# -------------------------------------------------------"
   ]
  },
  {
   "cell_type": "markdown",
   "metadata": {},
   "source": [
    "# BIG DATA and TRADITIONAL DATA (Structuerd)"
   ]
  },
  {
   "cell_type": "code",
   "execution_count": null,
   "metadata": {},
   "outputs": [],
   "source": [
    "In 'Traditional Data' integration is very easy \n",
    "while Big data integration is very difficult\n",
    "\n",
    "The size of the 'Traditional data' is very small\n",
    "while The size is more than the traditional data size\n",
    "\n",
    "Normal functions can manipulate 'Traditional data'.\n",
    "while Big data can t\n",
    "\n",
    "'Traditional data' 'is in manageable volume.\n",
    "while big data is not\n",
    "\n",
    "It is easy to manage and manipulate the 'Traditional data.'\n",
    "while It is difficult to manage and manipulate the big data\n",
    "\n",
    "traditinal Data Analytics used Centrized computing approch\n",
    "while Big data use Distributed Computing .\n",
    "\n",
    "traditnal data is struuerd data while big data is nin un / semi  ustrucherd"
   ]
  },
  {
   "cell_type": "markdown",
   "metadata": {},
   "source": [
    "# TRADITIONAL DATA - Tools and tecnoloies"
   ]
  },
  {
   "cell_type": "code",
   "execution_count": null,
   "metadata": {},
   "outputs": [],
   "source": [
    "​ use of Structured Query Language (SQL)\n",
    "​ A design to get data from the disk and load the data into memory to be processed by application\n",
    "​ Clearly defined fields organized in records.\n",
    "​ Records are usually stored in tables\n",
    "​ mostly used excel to visulizations\n",
    "​ database tools are enough for mange traditional data \n",
    "​ Data Warehouse systems"
   ]
  },
  {
   "cell_type": "markdown",
   "metadata": {},
   "source": [
    "# Big Data - Tools and tecnoloies"
   ]
  },
  {
   "cell_type": "code",
   "execution_count": null,
   "metadata": {},
   "outputs": [],
   "source": [
    "tools : Oracle / SAP Data Managemen /Cloudera/ Tableau /Amazon Web Services / AWS / Azure /NoSQL Databases\n",
    "    \n",
    "​ Genetic algorithms.\n",
    "​ Machine learning.\n",
    "​ Regression analysis. \n",
    "​ Sentiment analysis.\n",
    "​ Data Lakes.\n",
    "​ Hadoop \n",
    "​ Spark"
   ]
  },
  {
   "cell_type": "markdown",
   "metadata": {},
   "source": [
    "# Test Mining Phases"
   ]
  },
  {
   "cell_type": "code",
   "execution_count": null,
   "metadata": {},
   "outputs": [],
   "source": [
    "​  tokenization\n",
    "​  Conversion of Data to Lowercase\n",
    "​  Removal of Punctuation Symbols\n",
    "​ Removal of Numbers(digits)\n",
    "​ removed Stopwords\n",
    "​ Lemmatization of Data\n",
    "​ stemming"
   ]
  },
  {
   "cell_type": "markdown",
   "metadata": {},
   "source": [
    "# Visual Analytics Process"
   ]
  },
  {
   "cell_type": "code",
   "execution_count": null,
   "metadata": {},
   "outputs": [],
   "source": [
    "In order to gain knowledge from data, the Visual Analytics Process combines \n",
    "automated and visual analytic approaches and adata analyitcs approches like\n",
    "data transformation, data mapping, contribution selecting,\n",
    "ranking, interaction, model visualization, and knowledge processing\n",
    "with a tight connection through human interaction.\n",
    "\n",
    "main steps : Data / Visulizations / Knowlages / models"
   ]
  },
  {
   "cell_type": "markdown",
   "metadata": {},
   "source": [
    "# applications of visual analysis"
   ]
  },
  {
   "cell_type": "code",
   "execution_count": null,
   "metadata": {},
   "outputs": [],
   "source": [
    "​ Financial Analysis\n",
    "​ Network Security\n",
    "​ High-dimension & Subspace Analysis\n",
    "​ Document Analysis\n",
    "​ Molecular Biology"
   ]
  },
  {
   "cell_type": "markdown",
   "metadata": {},
   "source": [
    "# ========================================================="
   ]
  },
  {
   "cell_type": "markdown",
   "metadata": {},
   "source": [
    "# Building Blocks of Visual Analytics"
   ]
  },
  {
   "cell_type": "code",
   "execution_count": null,
   "metadata": {},
   "outputs": [],
   "source": [
    "​ Evaluation : \n",
    "     Evaluation involves users, tasks and data\n",
    "     Especially in the industry, the domain expert has the best knowledge\n",
    "     Challenge: often processing data from the real world\n",
    "\n",
    "​ Infrastructure :\n",
    "       Visual analytics is both user-driven and data-driven\n",
    "       Current challenges: lack of interaction and dynamic data\n",
    "       Limitations of traditional databases\n",
    "       Big data solutions"
   ]
  },
  {
   "cell_type": "code",
   "execution_count": null,
   "metadata": {},
   "outputs": [],
   "source": [
    "Data Management:\n",
    "    \n",
    "    The big opportunity of the Information Age\n",
    "    Many obstacles need to be overcome\n",
    "       * Heterogeneity of data sources\n",
    "       * Different data types\n",
    "       * Data streams\n",
    "       * Working under pressure\n",
    "       * Time consuming activities\n",
    "Data management ensures data consistency and standards"
   ]
  },
  {
   "cell_type": "code",
   "execution_count": null,
   "metadata": {},
   "outputs": [],
   "source": [
    "Data mining  : Data mining is a method for extracting and identifying patterns in large data \n",
    "               sets that combines approaches from machine learning,\n",
    "               statistics, and database systems."
   ]
  },
  {
   "cell_type": "code",
   "execution_count": null,
   "metadata": {},
   "outputs": [],
   "source": [
    "*Space & Time : \n",
    "     In large systems, space and time are essential \n",
    "         complexity increases ime also incresing\n",
    "            \n",
    "* Space and time are more than just numbers\n",
    "* Specific properties: Dependencies between observations\n",
    "                     Uncertainty\n",
    "                     Scale\n",
    "                     Time\n"
   ]
  },
  {
   "cell_type": "code",
   "execution_count": null,
   "metadata": {},
   "outputs": [],
   "source": [
    "Data Visualization:\n",
    "    \n",
    "Data visualization is the graphical representation of facts and data. \n",
    "By using visual elements like charts, graphs, and maps, data visualization tools provide \n",
    "an accessible way to see and understand , and make insigts and dessions by it."
   ]
  },
  {
   "cell_type": "code",
   "execution_count": null,
   "metadata": {},
   "outputs": [],
   "source": [
    "Human Perception & Cognition :\n",
    "   \n",
    "    The human is at the heart of visual analytics human interaction, analysis, \n",
    "    intuition, problem solving and visual perception.\n",
    "    \n",
    "    Humans do not have to remember everything but extract visual clues\n",
    "    from the environment"
   ]
  },
  {
   "cell_type": "markdown",
   "metadata": {},
   "source": [
    "# Pre-Attentive Processing"
   ]
  },
  {
   "cell_type": "code",
   "execution_count": null,
   "metadata": {},
   "outputs": [],
   "source": [
    "The human visual system relies heavily on preattentive processing.\n",
    "It enables our eyes to get information simply\n",
    "by looking the visual surroundings us.\n",
    "\n",
    "Sensitivity to differences in: \n",
    "    orientation / Length / Width /Size /Shape \n",
    "    encclosure / added marks\n",
    "    \n",
    "Colours : \n",
    "    Hue / Intensity\n",
    "\n",
    "\n",
    "(mekath buildig box eke ekak)"
   ]
  },
  {
   "cell_type": "markdown",
   "metadata": {},
   "source": [
    "# Building Blocks of Visual Content"
   ]
  },
  {
   "cell_type": "code",
   "execution_count": null,
   "metadata": {},
   "outputs": [],
   "source": [
    "* Color \n",
    "* Saturation & Brightness\n",
    "         : Saturation - the amount of grey in a color\n",
    "         : Brightness - how much white (or black) is mixed in the color\n",
    "\n",
    "* Graphical Elements\n",
    "* Graphical properties "
   ]
  },
  {
   "cell_type": "markdown",
   "metadata": {},
   "source": [
    "# How to Choose a Visualization?"
   ]
  },
  {
   "cell_type": "code",
   "execution_count": null,
   "metadata": {},
   "outputs": [],
   "source": [
    "Reasech Qusetion\n",
    "Audience\n",
    "Data type\n",
    "Data Format\n",
    "Data Size\n",
    "Data visualization"
   ]
  },
  {
   "cell_type": "code",
   "execution_count": null,
   "metadata": {},
   "outputs": [],
   "source": [
    "Real life example of Data Mining – Market Basket Analysis\n",
    "Market Basket Analysis is a technique which gives the careful study\n",
    "of purchases done by a customer in a super market. The concept is\n",
    "basically applied to identify the items that are bought together by a\n",
    "customer. Say, if a person buys bread, what are the chances that \n",
    "he/she will also purchase butter. This analysis helps in promoting \n",
    "offers and deals by the companies.\n",
    "The same is done with the help of data mining."
   ]
  },
  {
   "cell_type": "code",
   "execution_count": null,
   "metadata": {},
   "outputs": [],
   "source": []
  },
  {
   "cell_type": "code",
   "execution_count": null,
   "metadata": {},
   "outputs": [],
   "source": []
  },
  {
   "cell_type": "code",
   "execution_count": null,
   "metadata": {},
   "outputs": [],
   "source": []
  },
  {
   "cell_type": "code",
   "execution_count": null,
   "metadata": {},
   "outputs": [],
   "source": []
  },
  {
   "cell_type": "code",
   "execution_count": null,
   "metadata": {},
   "outputs": [],
   "source": []
  },
  {
   "cell_type": "code",
   "execution_count": null,
   "metadata": {},
   "outputs": [],
   "source": []
  },
  {
   "cell_type": "code",
   "execution_count": null,
   "metadata": {},
   "outputs": [],
   "source": []
  },
  {
   "cell_type": "code",
   "execution_count": null,
   "metadata": {},
   "outputs": [],
   "source": []
  },
  {
   "cell_type": "code",
   "execution_count": null,
   "metadata": {},
   "outputs": [],
   "source": []
  },
  {
   "cell_type": "code",
   "execution_count": null,
   "metadata": {},
   "outputs": [],
   "source": []
  },
  {
   "cell_type": "code",
   "execution_count": null,
   "metadata": {},
   "outputs": [],
   "source": []
  },
  {
   "cell_type": "code",
   "execution_count": null,
   "metadata": {},
   "outputs": [],
   "source": []
  },
  {
   "cell_type": "code",
   "execution_count": null,
   "metadata": {},
   "outputs": [],
   "source": []
  },
  {
   "cell_type": "code",
   "execution_count": null,
   "metadata": {},
   "outputs": [],
   "source": []
  },
  {
   "cell_type": "code",
   "execution_count": null,
   "metadata": {},
   "outputs": [],
   "source": []
  },
  {
   "cell_type": "code",
   "execution_count": null,
   "metadata": {},
   "outputs": [],
   "source": []
  },
  {
   "cell_type": "code",
   "execution_count": null,
   "metadata": {},
   "outputs": [],
   "source": []
  },
  {
   "cell_type": "code",
   "execution_count": null,
   "metadata": {},
   "outputs": [],
   "source": []
  },
  {
   "cell_type": "code",
   "execution_count": null,
   "metadata": {},
   "outputs": [],
   "source": []
  },
  {
   "cell_type": "code",
   "execution_count": null,
   "metadata": {},
   "outputs": [],
   "source": []
  },
  {
   "cell_type": "code",
   "execution_count": null,
   "metadata": {},
   "outputs": [],
   "source": []
  }
 ],
 "metadata": {
  "kernelspec": {
   "display_name": "Python 3",
   "language": "python",
   "name": "python3"
  },
  "language_info": {
   "codemirror_mode": {
    "name": "ipython",
    "version": 3
   },
   "file_extension": ".py",
   "mimetype": "text/x-python",
   "name": "python",
   "nbconvert_exporter": "python",
   "pygments_lexer": "ipython3",
   "version": "3.8.3"
  }
 },
 "nbformat": 4,
 "nbformat_minor": 4
}
