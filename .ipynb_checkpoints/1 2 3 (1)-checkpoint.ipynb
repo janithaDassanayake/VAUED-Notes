{
 "cells": [
  {
   "cell_type": "markdown",
   "metadata": {},
   "source": [
    "# -------------------------Lec 1-------------------"
   ]
  },
  {
   "cell_type": "markdown",
   "metadata": {},
   "source": [
    "# ======================================="
   ]
  },
  {
   "cell_type": "markdown",
   "metadata": {},
   "source": [
    "# Why UX design is so important?"
   ]
  },
  {
   "cell_type": "code",
   "execution_count": null,
   "metadata": {},
   "outputs": [],
   "source": [
    "When it comes UX design Our main goal should be however we have to satisfy the customer \n",
    "if we do that well we can caome with high revenue and profit.\n",
    "So UX desingn will helps to increes the customers , ( customer = Money )\n",
    "so UX design will helps to increse the revenue.\n",
    "\n",
    "UX design weill detectly engaging with Peoples emotions.\n",
    "\n",
    "so good UX design helps to get positive impressions from cutomers.\n",
    "so that will helps us to atract new customers as well.\n",
    "and it will help cutomers to stay longer in the site.\n",
    "\n",
    "\n",
    "next one is it save cost and time.\n",
    "which mean good UX design will help customers to find what the need easly.\n",
    "so better UX design we provide high userability and easy navigation"
   ]
  },
  {
   "cell_type": "markdown",
   "metadata": {},
   "source": [
    "# User experience design"
   ]
  },
  {
   "cell_type": "code",
   "execution_count": null,
   "metadata": {},
   "outputs": [],
   "source": [
    "User experience design (UXD, UED, or XD) is the process of supporting user behavior through usability,\n",
    "usefulness, and desirability provided in the interaction with a product."
   ]
  },
  {
   "cell_type": "markdown",
   "metadata": {},
   "source": [
    "# What are the common Practices of a UX person ?"
   ]
  },
  {
   "cell_type": "code",
   "execution_count": null,
   "metadata": {},
   "outputs": [],
   "source": [
    "* Field Research \n",
    "* Face to face Interviewing \n",
    "* creation of user tests\n",
    "* Gathering and organizing statistics\n",
    "* Creating personas\n",
    "* Product design\n",
    "* Feature writing\n",
    "* Requirement writing\n",
    "• Graphic art Animations\n",
    "• Interaction design\n",
    "• Navigational design\n",
    "* Usability\n",
    "* Prototyping\n",
    "* Interface Layout\n",
    "* Interface design\n",
    "* Visual design\n",
    "• Graphic art Animations\n",
    "• Interaction design\n",
    "• Navigational design"
   ]
  },
  {
   "cell_type": "code",
   "execution_count": null,
   "metadata": {},
   "outputs": [],
   "source": [
    "Traditional design process : Water fall:\n",
    "        \n",
    "    [ Discover > Define > Design > Develop > Deploy ]"
   ]
  },
  {
   "cell_type": "markdown",
   "metadata": {},
   "source": [
    "# Job Roles in the UX Industry"
   ]
  },
  {
   "cell_type": "code",
   "execution_count": null,
   "metadata": {},
   "outputs": [],
   "source": [
    "Content Specialist / Interaction Designer / User Experience Strategist / \n",
    "User Researcher / Information Architect / Visual Designer /"
   ]
  },
  {
   "cell_type": "markdown",
   "metadata": {},
   "source": [
    "# Design thinking process"
   ]
  },
  {
   "cell_type": "code",
   "execution_count": null,
   "metadata": {},
   "outputs": [],
   "source": [
    "Empathise -> Persona , Problem Interviews , user goals , Business Requirment\n",
    "Define ->    journey Maps , User flows , Ideation \n",
    "Ideate ->    visual design / prototype / wireframing \n",
    "Prototype -> Testing plan / Solution Intreview / Hypothesis Validation \n",
    "Test ->      code Build / MVP \n",
    "Implemet ->"
   ]
  },
  {
   "cell_type": "markdown",
   "metadata": {},
   "source": [
    "# Why Personas"
   ]
  },
  {
   "cell_type": "code",
   "execution_count": null,
   "metadata": {},
   "outputs": [],
   "source": [
    "Personas is fictional representation of actual users.\n",
    "and personas help us to summerize the user groups using some similarties,\n",
    "so that we can get a clear idea reagading usergroups.\n",
    "like rather than targating single user we can get a knolwage about whats that \n",
    "particuler user groups like, says , think and wants. \n",
    "\n",
    "By using persona we can identfy user groups earlily.\n",
    "so personas help us to come up with better design "
   ]
  },
  {
   "cell_type": "code",
   "execution_count": null,
   "metadata": {},
   "outputs": [],
   "source": [
    "Persona \n",
    "----------\n",
    "1) image\n",
    "2) Demographics\n",
    "3) Behaviors\n",
    "4) Goal and pain Points"
   ]
  },
  {
   "cell_type": "markdown",
   "metadata": {},
   "source": [
    "# Competitor Analysis"
   ]
  },
  {
   "cell_type": "code",
   "execution_count": null,
   "metadata": {},
   "outputs": [],
   "source": [
    "Compitior Analysis is the process of evaluating your competitor s companies , product and marketing strategies."
   ]
  },
  {
   "cell_type": "markdown",
   "metadata": {},
   "source": [
    "# Why do we need a Competitor Analysis?"
   ]
  },
  {
   "cell_type": "code",
   "execution_count": null,
   "metadata": {},
   "outputs": [],
   "source": [
    "Competitor Analysis is a process of evaluating our competitor s companies , product and marketing \n",
    "strategies by using some factors.\n",
    "\n",
    "by using Competitor Analysis we can identfy the who are the real Competitors are.\n",
    "\n",
    "by Competitor Analysis we can find our resons for cutomer churn.\n",
    "\n",
    "by Competitor Analysis we can uderstand our postion i mean we can understand where our produt stand in a\n",
    "terms of Compition.\n",
    "\n",
    "by Competitor Analysis we can evaluate our own product , if there are high userbiliy issues we can come up with \n",
    "better ideas and improve and fine tune the current exsiting product.\n",
    "\n",
    "it will helps to identfy the Gaps between Competitors and us , so that we can come up with new approchers.\n",
    "\n",
    "and the result of the Competitor Analysis will helps plan our future marking plans as well.\n",
    "\n",
    "and it will helps to identfy the potential \n",
    "\n",
    "if we haven t done it befor it;s better to do.\n",
    "\n",
    "it will helps to optimum over revenue as well.\n"
   ]
  },
  {
   "cell_type": "markdown",
   "metadata": {},
   "source": [
    "# How do we do a Competitor Analysis?"
   ]
  },
  {
   "cell_type": "code",
   "execution_count": null,
   "metadata": {},
   "outputs": [],
   "source": [
    "Select the competitors\n",
    "Define the assesment criteria\n",
    "Gather Materials\n",
    "Review\n",
    "Prepare the analysis\n",
    "Summerize the Insights"
   ]
  },
  {
   "cell_type": "markdown",
   "metadata": {},
   "source": [
    "# Attributes for Competitor Analysis"
   ]
  },
  {
   "cell_type": "code",
   "execution_count": null,
   "metadata": {},
   "outputs": [],
   "source": [
    "Product / platform type / Navigation / colors /userbility / button handling /proper validation /responsivenes\n",
    "/images /faster loading / content handling\n",
    "Features / customer Satisfaction / pros and cons"
   ]
  },
  {
   "cell_type": "markdown",
   "metadata": {},
   "source": [
    "# What is Define"
   ]
  },
  {
   "cell_type": "code",
   "execution_count": null,
   "metadata": {},
   "outputs": [],
   "source": [
    "After the Emperthze i mean after done the reasech by combinin all our results observer wether the our users having those isuess.\n",
    "after that by pinpointig those isuess and user needs , to mitigate that come up with new \n",
    "ideas and Opportunities for innovation is defining."
   ]
  },
  {
   "cell_type": "code",
   "execution_count": null,
   "metadata": {},
   "outputs": [],
   "source": [
    "Every Problem and a issue is a path to a design. so to come up with a better solution \n",
    "waht we cann do is we can create a qusestion as how mighy we "
   ]
  },
  {
   "cell_type": "code",
   "execution_count": null,
   "metadata": {},
   "outputs": [],
   "source": [
    "how might we make affordable\n",
    "how might we make easy\n",
    "how might we collect \n",
    "how might we manage \n",
    "how much we get a profit "
   ]
  },
  {
   "cell_type": "markdown",
   "metadata": {},
   "source": [
    "# Ideate "
   ]
  },
  {
   "cell_type": "code",
   "execution_count": null,
   "metadata": {},
   "outputs": [],
   "source": [
    "by brainstromig come up with creative ideas to address those unmet user need that we identified in the design phase."
   ]
  },
  {
   "cell_type": "code",
   "execution_count": null,
   "metadata": {},
   "outputs": [],
   "source": [
    "User Story is the better way."
   ]
  },
  {
   "cell_type": "markdown",
   "metadata": {},
   "source": [
    "# Design Sprint"
   ]
  },
  {
   "cell_type": "code",
   "execution_count": null,
   "metadata": {},
   "outputs": [],
   "source": [
    "Design Sprint is a time constrained , five phase of process that uses design thinking with the aim of reducing risk when\n",
    "an new product , service or a feature to he market"
   ]
  },
  {
   "cell_type": "code",
   "execution_count": null,
   "metadata": {},
   "outputs": [],
   "source": [
    "Understand -> Diverge -> Decide -> Prototype -> validate  (can use miro)"
   ]
  },
  {
   "cell_type": "markdown",
   "metadata": {},
   "source": [
    "# ======================================="
   ]
  },
  {
   "cell_type": "markdown",
   "metadata": {},
   "source": [
    "#                   -------------------------- Lectur 2 -------------------------"
   ]
  },
  {
   "cell_type": "markdown",
   "metadata": {},
   "source": [
    "# Interaction Design"
   ]
  },
  {
   "cell_type": "code",
   "execution_count": null,
   "metadata": {},
   "outputs": [],
   "source": [
    "Interaction Design is the creation of dialogue between a person and a product, system or service. "
   ]
  },
  {
   "cell_type": "markdown",
   "metadata": {},
   "source": [
    "# User Flow "
   ]
  },
  {
   "cell_type": "code",
   "execution_count": null,
   "metadata": {},
   "outputs": [],
   "source": [
    "It is a collection (series) of actions that user takes to achive a traget."
   ]
  },
  {
   "cell_type": "code",
   "execution_count": null,
   "metadata": {},
   "outputs": [],
   "source": [
    "Task Flow : illustrate the motivation and the steps that user takes to complete a task , or accomplish a goal."
   ]
  },
  {
   "cell_type": "code",
   "execution_count": null,
   "metadata": {},
   "outputs": [],
   "source": [
    "Wire Flow : it is a combination of wirefarme and flowcharts"
   ]
  },
  {
   "cell_type": "code",
   "execution_count": null,
   "metadata": {},
   "outputs": [],
   "source": [
    "User flows : illustrate the motivation and steps that user takes place to accomplesh a goal in the system,\n",
    "             and this cases user can follows alternate paths that reach to the same destination."
   ]
  },
  {
   "cell_type": "code",
   "execution_count": null,
   "metadata": {},
   "outputs": [],
   "source": [
    "Eliments of User Flows\n",
    "------------------------\n",
    "Circle -> the entry point of user starts (system)\n",
    "Diamonds -> indicate action or decision made my a user (human intraction )\n",
    "Box -> indicate the destination where user land after taking action (responces to the user input )"
   ]
  },
  {
   "cell_type": "markdown",
   "metadata": {},
   "source": [
    "# User Journey Map"
   ]
  },
  {
   "cell_type": "code",
   "execution_count": null,
   "metadata": {},
   "outputs": [],
   "source": [
    "They are the visual trip of a user accros the solution"
   ]
  },
  {
   "cell_type": "markdown",
   "metadata": {},
   "source": [
    "# Touchpoint and Channels"
   ]
  },
  {
   "cell_type": "code",
   "execution_count": null,
   "metadata": {},
   "outputs": [],
   "source": [
    "Touchpoint : That represent the Intraction between cutome and the business.\n",
    "Channels   : What user do in order to intract with touchpoint"
   ]
  },
  {
   "cell_type": "markdown",
   "metadata": {},
   "source": [
    "# Diffrance between UserFlow and User Journey"
   ]
  },
  {
   "cell_type": "code",
   "execution_count": null,
   "metadata": {},
   "outputs": [],
   "source": [
    "User Journey focus on the design of the process start to end while the user flow focus on the individuals setps a user takes.\n",
    "\n",
    "User flow means motivation and steps that user takes to accomplish a goal or complete a task with in the system.\n",
    "user journey is a kind of trip of user accrose the system.\n",
    "\n",
    "user flow may not be liner\n",
    "\n",
    "user flow focuse on the path often action to perform.\n",
    "\n",
    "User flows dose not focus on the users emotion and feeling while user jounrey dose\n",
    "\n",
    "user journey map more focus on the expreriace of the customer.\n"
   ]
  },
  {
   "cell_type": "markdown",
   "metadata": {},
   "source": [
    "# Prototype"
   ]
  },
  {
   "cell_type": "code",
   "execution_count": null,
   "metadata": {},
   "outputs": [],
   "source": [
    "prototype means it is a early sample of a design that is use to get a feedback and rapid experiment with new ideas."
   ]
  },
  {
   "cell_type": "markdown",
   "metadata": {},
   "source": [
    "# 2 main Resasons of Prototyping "
   ]
  },
  {
   "cell_type": "code",
   "execution_count": null,
   "metadata": {},
   "outputs": [],
   "source": [
    "visulization : Prototypes help UX designers to show to stakeholdes how the final solution looks like.\n",
    "\n",
    "Feedback     : Prototype generate feedbacks from the team members as well as the testers and the stakeholders too.\n",
    "               by analiyzing those feedbacks we can idenfty the places that we need to improve. so that design team can \n",
    "               itterate the design process , untill come up with better design. then developers can develop the final product.\n",
    "               so it will help to save company money and the time"
   ]
  },
  {
   "cell_type": "markdown",
   "metadata": {},
   "source": [
    "# Low-fidelity Prototyping"
   ]
  },
  {
   "cell_type": "code",
   "execution_count": null,
   "metadata": {},
   "outputs": [],
   "source": [
    "we don t worry about the detail we don t worry about the colors just using a pen and papaer just sketch"
   ]
  },
  {
   "cell_type": "code",
   "execution_count": null,
   "metadata": {},
   "outputs": [],
   "source": [
    "Advanges : It will build team work / inexpensive (low cost) / Faster / Documentaion\n",
    "Disadvantages : false Positive / not realstic / not gut reaction"
   ]
  },
  {
   "cell_type": "markdown",
   "metadata": {},
   "source": [
    "# The Prototyping Process"
   ]
  },
  {
   "cell_type": "code",
   "execution_count": null,
   "metadata": {},
   "outputs": [],
   "source": [
    "Low fidelity > High fidelity > Code"
   ]
  },
  {
   "cell_type": "markdown",
   "metadata": {},
   "source": [
    "# Advatage of Prototyping"
   ]
  },
  {
   "cell_type": "code",
   "execution_count": null,
   "metadata": {},
   "outputs": [],
   "source": [
    "Can deploye quickly\n",
    "Proto typing enables early detection of errors \n",
    "prototype generate feedbacks from the team members\n",
    "save company money and the time\n",
    "Prototypes help UX designers to show to stakeholdes how the final solution looks like."
   ]
  },
  {
   "cell_type": "markdown",
   "metadata": {},
   "source": [
    "# testing types"
   ]
  },
  {
   "cell_type": "code",
   "execution_count": null,
   "metadata": {},
   "outputs": [],
   "source": [
    "traditinal user testing\n",
    "guerrilla user testing "
   ]
  },
  {
   "cell_type": "markdown",
   "metadata": {},
   "source": [
    "# ================== Lec 3 ========================"
   ]
  },
  {
   "cell_type": "markdown",
   "metadata": {},
   "source": [
    "# ----------------------------------------------------------------------------------"
   ]
  },
  {
   "cell_type": "markdown",
   "metadata": {},
   "source": [
    "# Analytics"
   ]
  },
  {
   "cell_type": "code",
   "execution_count": null,
   "metadata": {},
   "outputs": [],
   "source": [
    "Analytics is a process that follows some analytical steps main factors.\n",
    "to undestend the current situation , progress of the design by using data"
   ]
  },
  {
   "cell_type": "markdown",
   "metadata": {},
   "source": [
    "Measurement"
   ]
  },
  {
   "cell_type": "code",
   "execution_count": null,
   "metadata": {},
   "outputs": [],
   "source": [
    "*Goals:what your experiance is do\n",
    "*Objectives: What site must do for achive the gaol.\n",
    "*tasks: What user must do to accomplich the Objective\n",
    "*KPI: Metrixs\n",
    "*Traget: threshold to gauge of scucess"
   ]
  },
  {
   "cell_type": "markdown",
   "metadata": {},
   "source": [
    "Collection"
   ]
  },
  {
   "cell_type": "code",
   "execution_count": null,
   "metadata": {},
   "outputs": [],
   "source": [
    "Gather data , Tripically Count\n",
    "Done on a web server , Collected in a separate server"
   ]
  },
  {
   "cell_type": "markdown",
   "metadata": {},
   "source": [
    "Analysis"
   ]
  },
  {
   "cell_type": "code",
   "execution_count": null,
   "metadata": {},
   "outputs": [],
   "source": [
    "Look at the data , and get a knowlage regarding what is happening\n",
    "Eg : Tools and spreadsheets"
   ]
  },
  {
   "cell_type": "markdown",
   "metadata": {},
   "source": [
    "Reporting"
   ]
  },
  {
   "cell_type": "code",
   "execution_count": null,
   "metadata": {},
   "outputs": [],
   "source": [
    "by using those data , after the analyises come uo with better insights and findings abd\n",
    "share information and present it in a better way."
   ]
  },
  {
   "cell_type": "markdown",
   "metadata": {},
   "source": [
    "# Goal "
   ]
  },
  {
   "cell_type": "code",
   "execution_count": null,
   "metadata": {},
   "outputs": [],
   "source": [
    "Target      – an indicator established to determine how successfully you are achieving an objective.\n",
    "              (a measure of the degree of success)\n",
    "Goal        – an indicator established to determine whether you have achieved your objective.\n",
    "              (a logical indicator of success)"
   ]
  },
  {
   "cell_type": "markdown",
   "metadata": {},
   "source": [
    "Types of goals "
   ]
  },
  {
   "cell_type": "code",
   "execution_count": null,
   "metadata": {},
   "outputs": [],
   "source": [
    "Macro Goal : Primary goals of thr site is Macro Goals \n",
    "             eg : selling a product in eccommers site.\n",
    "\n",
    "Micro Goal : Secondery Goal of the site are Micro Goals\n",
    "             eg : getting customers to sign up for new shellter in an ecommers site."
   ]
  },
  {
   "cell_type": "markdown",
   "metadata": {},
   "source": [
    "# metrics"
   ]
  },
  {
   "cell_type": "code",
   "execution_count": null,
   "metadata": {},
   "outputs": [],
   "source": [
    "Metric driven decision and justify buiness decisions\n",
    "Metrics are measures of quantitative assessment commonly used for comparing, \n",
    "and tracking performance or production."
   ]
  },
  {
   "cell_type": "markdown",
   "metadata": {},
   "source": [
    "# Process"
   ]
  },
  {
   "cell_type": "code",
   "execution_count": null,
   "metadata": {},
   "outputs": [],
   "source": [
    "a series of actions or steps taken in order to achieve a particular end."
   ]
  },
  {
   "cell_type": "markdown",
   "metadata": {},
   "source": [
    "# KPI"
   ]
  },
  {
   "cell_type": "code",
   "execution_count": null,
   "metadata": {},
   "outputs": [],
   "source": [
    "A performance indicator or key performance indicator is a type of performance measurement.\n",
    "KPIs evaluate the success of an organization or of a particular activity in which it engages."
   ]
  },
  {
   "cell_type": "markdown",
   "metadata": {},
   "source": [
    "Typical KPIs"
   ]
  },
  {
   "cell_type": "code",
   "execution_count": null,
   "metadata": {},
   "outputs": [],
   "source": [
    "Actual Behavior from Live Site :\n",
    "    Page views , bounce rate , convertion rate etc.\n",
    "    \n",
    "Sales and Marketing :\n",
    "    Numbers of Leads , Post engagemt ,push notifications ,Social media impression , Campaign management , Brand Trackers.\n",
    "    Search metrics . NPS\n",
    "    \n",
    "Finacial Metrix : churn rate , revernue, income , expences , Gross Profit Margin , OPEX,CAPEX, GMROI ,YOY , lifr time value,\n",
    "    \n",
    "Customer Support Metrics : no of calls, First call resolution, Average time, Inbound vs outbound."
   ]
  },
  {
   "cell_type": "markdown",
   "metadata": {},
   "source": [
    "# On site vs Off site"
   ]
  },
  {
   "cell_type": "code",
   "execution_count": null,
   "metadata": {},
   "outputs": [],
   "source": [
    "Onsite:\n",
    "    What people are doing on you site\n",
    "    Site Search\n",
    "    Onsite web analytics tools measure the actual visitor traffic arriving on your website.\n",
    "    They are capable of tracking the engagements and interactions your visitor\n",
    "    Google Analytics is an onsite visitor-reporting tool.\n",
    "    \n",
    "Offsite:\n",
    "    Offsite web analytics helps to measure your potential website audience/Market share / Internet trends\n",
    "    Facebook Insights, Youtube Analytics are two example for offsite analytic tools.\n",
    "    \n",
    "Offsite and onsite analytics should be used to complement each other, not compete against each other."
   ]
  },
  {
   "cell_type": "markdown",
   "metadata": {},
   "source": [
    "# Onsite and Offsite metrics"
   ]
  },
  {
   "cell_type": "code",
   "execution_count": null,
   "metadata": {},
   "outputs": [],
   "source": [
    "On site :\n",
    "    Clicks      – content quality, effectiveness and advertisements\n",
    "    Geolocation – segmentation, localization, content distribution\n",
    "    Customer lifecycle – behavior over time of individuals\n",
    "       \n",
    "\n",
    "Offsite : \n",
    "        browsers\n",
    "        Devises\n",
    "        traffic      "
   ]
  },
  {
   "cell_type": "markdown",
   "metadata": {},
   "source": [
    "# Usability"
   ]
  },
  {
   "cell_type": "code",
   "execution_count": null,
   "metadata": {},
   "outputs": [],
   "source": [
    "• This website is easy to use.\n",
    "• It is easy to navigate within the website."
   ]
  },
  {
   "cell_type": "markdown",
   "metadata": {},
   "source": [
    "# Bounce rate"
   ]
  },
  {
   "cell_type": "code",
   "execution_count": null,
   "metadata": {},
   "outputs": [],
   "source": [
    "* Percentage of visits are limited to a single page\n",
    "* It reflects the percentage of visitors who access the site and then exit without\n",
    "  viewing any other pages on the same site."
   ]
  },
  {
   "cell_type": "markdown",
   "metadata": {},
   "source": [
    "# Conversion rate"
   ]
  },
  {
   "cell_type": "code",
   "execution_count": null,
   "metadata": {},
   "outputs": [],
   "source": [
    "* The number of visitors to a website who fulfill a desired goal (a conversion) \n",
    "  out of the total number of visitors is defined as the conversion rate.\n",
    "*  the percentage of users who take a desired action"
   ]
  },
  {
   "cell_type": "markdown",
   "metadata": {},
   "source": [
    "Conversion Event"
   ]
  },
  {
   "cell_type": "code",
   "execution_count": null,
   "metadata": {},
   "outputs": [],
   "source": [
    "• Buying something on an ecommerce site\n",
    "• Becoming a registered user\n",
    "• add to cart some produt\n",
    "• Added a review\n",
    "• Signing up for a subscriptio"
   ]
  },
  {
   "cell_type": "markdown",
   "metadata": {},
   "source": [
    "# Organic Search"
   ]
  },
  {
   "cell_type": "code",
   "execution_count": null,
   "metadata": {},
   "outputs": [],
   "source": [
    "Search results generated not through paid advertisements."
   ]
  },
  {
   "cell_type": "markdown",
   "metadata": {},
   "source": [
    "# Impression"
   ]
  },
  {
   "cell_type": "code",
   "execution_count": null,
   "metadata": {},
   "outputs": [],
   "source": [
    "When a content (Image, page or advertisement) is seen by a user\n",
    "total engagement / likes / hashtags /details / replies"
   ]
  },
  {
   "cell_type": "markdown",
   "metadata": {},
   "source": [
    "# time on site (Session time)"
   ]
  },
  {
   "cell_type": "code",
   "execution_count": null,
   "metadata": {},
   "outputs": [],
   "source": [
    "Amount of the time someone spends on a site"
   ]
  },
  {
   "cell_type": "markdown",
   "metadata": {},
   "source": [
    "# Engagement"
   ]
  },
  {
   "cell_type": "code",
   "execution_count": null,
   "metadata": {},
   "outputs": [],
   "source": [
    "The relationship between the time on site and the number of pages viewed\n",
    "Website user engagement is an important indicator determining the success and ranking of your site."
   ]
  },
  {
   "cell_type": "markdown",
   "metadata": {},
   "source": [
    "# Visits / Sessions"
   ]
  },
  {
   "cell_type": "code",
   "execution_count": null,
   "metadata": {},
   "outputs": [],
   "source": [
    "Series of page requests"
   ]
  },
  {
   "cell_type": "markdown",
   "metadata": {},
   "source": [
    "# Visitors"
   ]
  },
  {
   "cell_type": "code",
   "execution_count": null,
   "metadata": {},
   "outputs": [],
   "source": [
    "A website visitor is someone who views/goes to your website.\n",
    "If that visitor views multiple pages on your website, that still only counts as 1 visit.\n",
    "Client generating page views during in a time period"
   ]
  },
  {
   "cell_type": "markdown",
   "metadata": {},
   "source": [
    "# Visitor types"
   ]
  },
  {
   "cell_type": "code",
   "execution_count": null,
   "metadata": {},
   "outputs": [],
   "source": [
    "• Unique Visitors - Number of visitors who have visited at least once. \n",
    "• New Visitors - Visitors who were referred to your website by other websites.\n",
    "• Returning Visitors - Visitors have visited more than once.\n",
    "• Visit Duration - How long a visitor remained in the website before their exit page.\n",
    "• Recency and Frequency - How recent did a visitor arrive and how often did they arrive."
   ]
  },
  {
   "cell_type": "markdown",
   "metadata": {},
   "source": [
    "# Page value"
   ]
  },
  {
   "cell_type": "code",
   "execution_count": null,
   "metadata": {},
   "outputs": [],
   "source": [
    "Allows to track the pages that contribute to the most conversion revenue."
   ]
  },
  {
   "cell_type": "markdown",
   "metadata": {},
   "source": [
    "# Hit"
   ]
  },
  {
   "cell_type": "code",
   "execution_count": null,
   "metadata": {},
   "outputs": [],
   "source": [
    "• An interaction that generates data :\n",
    "     Page / Event /Social interaction /Ecommerce"
   ]
  },
  {
   "cell_type": "markdown",
   "metadata": {},
   "source": [
    "# Events"
   ]
  },
  {
   "cell_type": "code",
   "execution_count": null,
   "metadata": {},
   "outputs": [],
   "source": [
    "Actions such as page views, form submissions, keystrokes, etc"
   ]
  },
  {
   "cell_type": "markdown",
   "metadata": {},
   "source": [
    "# UX Metrics"
   ]
  },
  {
   "cell_type": "code",
   "execution_count": null,
   "metadata": {},
   "outputs": [],
   "source": [
    "• UX metrics are a set of measurable data points used \n",
    "to measure, compare, and track a website's or app's user experience across time\n",
    "\n",
    "• UX Metrics focus on experience driven attributes and measures.\n",
    "• It looks at how user experience could be measured and ranked"
   ]
  },
  {
   "cell_type": "markdown",
   "metadata": {},
   "source": [
    "# Task Success Rate"
   ]
  },
  {
   "cell_type": "code",
   "execution_count": null,
   "metadata": {},
   "outputs": [],
   "source": [
    "thats means How many people have completed a task successfully\n",
    "      Eg: Uploading a photo with metadata."
   ]
  },
  {
   "cell_type": "markdown",
   "metadata": {},
   "source": [
    "# Time on Task"
   ]
  },
  {
   "cell_type": "code",
   "execution_count": null,
   "metadata": {},
   "outputs": [],
   "source": [
    " How long it took to perform a task."
   ]
  },
  {
   "cell_type": "markdown",
   "metadata": {},
   "source": [
    "# ------------Heat Maps"
   ]
  },
  {
   "cell_type": "code",
   "execution_count": null,
   "metadata": {},
   "outputs": [],
   "source": [
    "A heatmap can help us to identify problems in your website by simply tracking your users'\n",
    "activity and providing you with an overview of their behavior with in the site."
   ]
  },
  {
   "cell_type": "code",
   "execution_count": null,
   "metadata": {},
   "outputs": [],
   "source": [
    "Using clickmaps, you can track clicks on:\n",
    "    \n",
    "    Check your website’s navigability using clickmaps\n",
    "    Can get a idea regading boutton handinlg wheter it is a good or fail.\n",
    "    \n",
    "Scrollmap :\n",
    "    \n",
    "    Place the most important aspects of the web page in sections\n",
    "    where visitors spend the most time, according to the scrollmap result.\n",
    "        \n",
    "    we can identfy where visitors are spending the most time \n",
    "    and where they are losing interest.\n",
    "    \n",
    "Mouse Tracking Heatmap : \n",
    "    \n",
    "    indicates areas over which visitors hover their cursor the most.\n"
   ]
  },
  {
   "cell_type": "markdown",
   "metadata": {},
   "source": [
    "# HotJar"
   ]
  },
  {
   "cell_type": "code",
   "execution_count": null,
   "metadata": {},
   "outputs": [],
   "source": [
    "Allows you to visualize how users interact with the website using various approaches."
   ]
  },
  {
   "cell_type": "markdown",
   "metadata": {},
   "source": [
    "# Google Analytics"
   ]
  },
  {
   "cell_type": "code",
   "execution_count": null,
   "metadata": {},
   "outputs": [],
   "source": [
    "Allows to track all aspects of your website\n",
    "\n",
    "Audience Overview\n",
    "Demographics\n",
    "Acquisition Overview\n",
    "Source/Medium\n",
    "Landing Pages\n",
    "Channels\n",
    "Mobile Overview\n",
    "Mobile Performance\n",
    "Behavior Flow\n",
    "Content Efficiency Analysis\n",
    "New vs Returning Users\n",
    "Goal Overview\n",
    "Top Conversion Paths\n",
    "Assisted Conversions\n",
    "Funnel Analysis\n",
    "Site Content\n",
    "User Acquisition and Efficiency\n",
    "Navigation Summary\n",
    "User Flow\n",
    "Browser and OS Report\n",
    "Custom Events\n",
    "Build your own"
   ]
  },
  {
   "cell_type": "markdown",
   "metadata": {},
   "source": [
    "# Remote testing"
   ]
  },
  {
   "cell_type": "code",
   "execution_count": null,
   "metadata": {},
   "outputs": [],
   "source": []
  },
  {
   "cell_type": "markdown",
   "metadata": {},
   "source": [
    "# A/B Testing"
   ]
  },
  {
   "cell_type": "code",
   "execution_count": null,
   "metadata": {},
   "outputs": [],
   "source": []
  },
  {
   "cell_type": "markdown",
   "metadata": {},
   "source": [
    "# How Does A/B Testing Work?"
   ]
  },
  {
   "cell_type": "code",
   "execution_count": null,
   "metadata": {},
   "outputs": [],
   "source": [
    "Reasearch -> Hypothesis Formulation -> Creating a Variation ->testing -> Analyis result and concution"
   ]
  },
  {
   "cell_type": "markdown",
   "metadata": {},
   "source": [
    "# Usability Test"
   ]
  },
  {
   "cell_type": "code",
   "execution_count": null,
   "metadata": {},
   "outputs": [],
   "source": [
    "User Test :\n",
    "Heuristic Evaluation : A review of your user interface"
   ]
  },
  {
   "cell_type": "markdown",
   "metadata": {},
   "source": [
    "# 10 Usability Heuristics"
   ]
  },
  {
   "cell_type": "code",
   "execution_count": null,
   "metadata": {},
   "outputs": [],
   "source": [
    "1. Visibility of system status\n",
    "2. Match between system and the real world\n",
    "3. User control and freedom\n",
    "4. Consistency and standards\n",
    "5. Error prevention\n",
    "6. Recognition rather than recall\n",
    "7. Flexibility and efficiency of use\n",
    "10. Help and documentation"
   ]
  },
  {
   "cell_type": "code",
   "execution_count": null,
   "metadata": {},
   "outputs": [],
   "source": []
  },
  {
   "cell_type": "code",
   "execution_count": null,
   "metadata": {},
   "outputs": [],
   "source": []
  },
  {
   "cell_type": "code",
   "execution_count": null,
   "metadata": {},
   "outputs": [],
   "source": []
  },
  {
   "cell_type": "code",
   "execution_count": null,
   "metadata": {},
   "outputs": [],
   "source": []
  },
  {
   "cell_type": "code",
   "execution_count": null,
   "metadata": {},
   "outputs": [],
   "source": []
  },
  {
   "cell_type": "code",
   "execution_count": null,
   "metadata": {},
   "outputs": [],
   "source": []
  },
  {
   "cell_type": "code",
   "execution_count": null,
   "metadata": {},
   "outputs": [],
   "source": []
  },
  {
   "cell_type": "code",
   "execution_count": null,
   "metadata": {},
   "outputs": [],
   "source": []
  },
  {
   "cell_type": "code",
   "execution_count": null,
   "metadata": {},
   "outputs": [],
   "source": []
  },
  {
   "cell_type": "code",
   "execution_count": null,
   "metadata": {},
   "outputs": [],
   "source": []
  },
  {
   "cell_type": "code",
   "execution_count": null,
   "metadata": {},
   "outputs": [],
   "source": []
  },
  {
   "cell_type": "code",
   "execution_count": null,
   "metadata": {},
   "outputs": [],
   "source": []
  },
  {
   "cell_type": "code",
   "execution_count": null,
   "metadata": {},
   "outputs": [],
   "source": []
  }
 ],
 "metadata": {
  "kernelspec": {
   "display_name": "Python 3",
   "language": "python",
   "name": "python3"
  },
  "language_info": {
   "codemirror_mode": {
    "name": "ipython",
    "version": 3
   },
   "file_extension": ".py",
   "mimetype": "text/x-python",
   "name": "python",
   "nbconvert_exporter": "python",
   "pygments_lexer": "ipython3",
   "version": "3.8.3"
  }
 },
 "nbformat": 4,
 "nbformat_minor": 4
}
